{
 "cells": [
  {
   "cell_type": "code",
   "execution_count": null,
   "id": "technical-effect",
   "metadata": {},
   "outputs": [],
   "source": [
    "import speech_recognition as sr #reconocimiento de sonido\n",
    "from selenium import webdriver\n",
    "import time\n",
    "from speech_recognition import Microphone, Recognizer, AudioFile, UnknownValueError, RequestError\n",
    "from gtts import gTTS\n",
    "from playsound import playsound\n",
    "import random\n",
    "\n",
    "r = sr.Recognizer()\n",
    "try:\n",
    "    print(\"Escuchando...\")\n",
    "    with sr.Microphone() as source:\n",
    "        r.adjust_for_ambient_noise(source)  # here\n",
    "        print (\"say something3\")\n",
    "        audio = r.listen(source,timeout=3)   \n",
    "        print(audio)\n",
    "except: \n",
    "    pass"
   ]
  },
  {
   "cell_type": "code",
   "execution_count": null,
   "id": "small-customer",
   "metadata": {},
   "outputs": [],
   "source": []
  },
  {
   "cell_type": "code",
   "execution_count": null,
   "id": "enabling-smooth",
   "metadata": {},
   "outputs": [],
   "source": []
  }
 ],
 "metadata": {
  "kernelspec": {
   "display_name": "Python 3",
   "language": "python",
   "name": "python3"
  },
  "language_info": {
   "codemirror_mode": {
    "name": "ipython",
    "version": 3
   },
   "file_extension": ".py",
   "mimetype": "text/x-python",
   "name": "python",
   "nbconvert_exporter": "python",
   "pygments_lexer": "ipython3",
   "version": "3.8.5"
  }
 },
 "nbformat": 4,
 "nbformat_minor": 5
}
